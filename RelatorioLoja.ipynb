{
  "nbformat": 4,
  "nbformat_minor": 0,
  "metadata": {
    "colab": {
      "provenance": []
    },
    "kernelspec": {
      "name": "python3",
      "display_name": "Python 3"
    },
    "language_info": {
      "name": "python"
    }
  },
  "cells": [
    {
      "cell_type": "markdown",
      "source": [
        "### Importação dos dados\n",
        "\n"
      ],
      "metadata": {
        "id": "RhEdWd9YUR6H"
      }
    },
    {
      "cell_type": "code",
      "execution_count": 23,
      "metadata": {
        "colab": {
          "base_uri": "https://localhost:8080/",
          "height": 0
        },
        "id": "T3EvaeQ_INIL",
        "outputId": "0c4e9395-0bdf-49b0-a376-3b6468b20a34"
      },
      "outputs": [
        {
          "output_type": "execute_result",
          "data": {
            "text/plain": [
              "                 Produto Categoria do Produto    Preço      Frete  \\\n",
              "0     Assistente virtual          eletronicos   219.08   9.249790   \n",
              "1         Mesa de jantar               moveis   256.35  11.234305   \n",
              "2      Jogo de tabuleiro           brinquedos   279.51  21.262681   \n",
              "3            Micro-ondas     eletrodomesticos  1009.99  54.667344   \n",
              "4  Cadeira de escritório               moveis   446.99  26.964689   \n",
              "\n",
              "  Data da Compra        Vendedor Local da compra  Avaliação da compra  \\\n",
              "0     16/01/2021     Pedro Gomes              SP                    4   \n",
              "1     18/05/2022  Beatriz Moraes              RJ                    1   \n",
              "2     15/03/2021      João Souza              DF                    1   \n",
              "3     03/05/2022      João Souza              RS                    4   \n",
              "4     07/11/2020   Larissa Alves              MG                    5   \n",
              "\n",
              "  Tipo de pagamento  Quantidade de parcelas    lat    lon  \n",
              "0    cartao_credito                       8 -22.19 -48.79  \n",
              "1    cartao_credito                       4 -22.25 -42.66  \n",
              "2    cartao_credito                       1 -15.83 -47.86  \n",
              "3            boleto                       1 -30.17 -53.50  \n",
              "4            boleto                       1 -18.10 -44.38  "
            ],
            "text/html": [
              "\n",
              "  <div id=\"df-a8e986ec-f155-4b08-b928-2bed4d49e45f\" class=\"colab-df-container\">\n",
              "    <div>\n",
              "<style scoped>\n",
              "    .dataframe tbody tr th:only-of-type {\n",
              "        vertical-align: middle;\n",
              "    }\n",
              "\n",
              "    .dataframe tbody tr th {\n",
              "        vertical-align: top;\n",
              "    }\n",
              "\n",
              "    .dataframe thead th {\n",
              "        text-align: right;\n",
              "    }\n",
              "</style>\n",
              "<table border=\"1\" class=\"dataframe\">\n",
              "  <thead>\n",
              "    <tr style=\"text-align: right;\">\n",
              "      <th></th>\n",
              "      <th>Produto</th>\n",
              "      <th>Categoria do Produto</th>\n",
              "      <th>Preço</th>\n",
              "      <th>Frete</th>\n",
              "      <th>Data da Compra</th>\n",
              "      <th>Vendedor</th>\n",
              "      <th>Local da compra</th>\n",
              "      <th>Avaliação da compra</th>\n",
              "      <th>Tipo de pagamento</th>\n",
              "      <th>Quantidade de parcelas</th>\n",
              "      <th>lat</th>\n",
              "      <th>lon</th>\n",
              "    </tr>\n",
              "  </thead>\n",
              "  <tbody>\n",
              "    <tr>\n",
              "      <th>0</th>\n",
              "      <td>Assistente virtual</td>\n",
              "      <td>eletronicos</td>\n",
              "      <td>219.08</td>\n",
              "      <td>9.249790</td>\n",
              "      <td>16/01/2021</td>\n",
              "      <td>Pedro Gomes</td>\n",
              "      <td>SP</td>\n",
              "      <td>4</td>\n",
              "      <td>cartao_credito</td>\n",
              "      <td>8</td>\n",
              "      <td>-22.19</td>\n",
              "      <td>-48.79</td>\n",
              "    </tr>\n",
              "    <tr>\n",
              "      <th>1</th>\n",
              "      <td>Mesa de jantar</td>\n",
              "      <td>moveis</td>\n",
              "      <td>256.35</td>\n",
              "      <td>11.234305</td>\n",
              "      <td>18/05/2022</td>\n",
              "      <td>Beatriz Moraes</td>\n",
              "      <td>RJ</td>\n",
              "      <td>1</td>\n",
              "      <td>cartao_credito</td>\n",
              "      <td>4</td>\n",
              "      <td>-22.25</td>\n",
              "      <td>-42.66</td>\n",
              "    </tr>\n",
              "    <tr>\n",
              "      <th>2</th>\n",
              "      <td>Jogo de tabuleiro</td>\n",
              "      <td>brinquedos</td>\n",
              "      <td>279.51</td>\n",
              "      <td>21.262681</td>\n",
              "      <td>15/03/2021</td>\n",
              "      <td>João Souza</td>\n",
              "      <td>DF</td>\n",
              "      <td>1</td>\n",
              "      <td>cartao_credito</td>\n",
              "      <td>1</td>\n",
              "      <td>-15.83</td>\n",
              "      <td>-47.86</td>\n",
              "    </tr>\n",
              "    <tr>\n",
              "      <th>3</th>\n",
              "      <td>Micro-ondas</td>\n",
              "      <td>eletrodomesticos</td>\n",
              "      <td>1009.99</td>\n",
              "      <td>54.667344</td>\n",
              "      <td>03/05/2022</td>\n",
              "      <td>João Souza</td>\n",
              "      <td>RS</td>\n",
              "      <td>4</td>\n",
              "      <td>boleto</td>\n",
              "      <td>1</td>\n",
              "      <td>-30.17</td>\n",
              "      <td>-53.50</td>\n",
              "    </tr>\n",
              "    <tr>\n",
              "      <th>4</th>\n",
              "      <td>Cadeira de escritório</td>\n",
              "      <td>moveis</td>\n",
              "      <td>446.99</td>\n",
              "      <td>26.964689</td>\n",
              "      <td>07/11/2020</td>\n",
              "      <td>Larissa Alves</td>\n",
              "      <td>MG</td>\n",
              "      <td>5</td>\n",
              "      <td>boleto</td>\n",
              "      <td>1</td>\n",
              "      <td>-18.10</td>\n",
              "      <td>-44.38</td>\n",
              "    </tr>\n",
              "  </tbody>\n",
              "</table>\n",
              "</div>\n",
              "    <div class=\"colab-df-buttons\">\n",
              "\n",
              "  <div class=\"colab-df-container\">\n",
              "    <button class=\"colab-df-convert\" onclick=\"convertToInteractive('df-a8e986ec-f155-4b08-b928-2bed4d49e45f')\"\n",
              "            title=\"Convert this dataframe to an interactive table.\"\n",
              "            style=\"display:none;\">\n",
              "\n",
              "  <svg xmlns=\"http://www.w3.org/2000/svg\" height=\"24px\" viewBox=\"0 -960 960 960\">\n",
              "    <path d=\"M120-120v-720h720v720H120Zm60-500h600v-160H180v160Zm220 220h160v-160H400v160Zm0 220h160v-160H400v160ZM180-400h160v-160H180v160Zm440 0h160v-160H620v160ZM180-180h160v-160H180v160Zm440 0h160v-160H620v160Z\"/>\n",
              "  </svg>\n",
              "    </button>\n",
              "\n",
              "  <style>\n",
              "    .colab-df-container {\n",
              "      display:flex;\n",
              "      gap: 12px;\n",
              "    }\n",
              "\n",
              "    .colab-df-convert {\n",
              "      background-color: #E8F0FE;\n",
              "      border: none;\n",
              "      border-radius: 50%;\n",
              "      cursor: pointer;\n",
              "      display: none;\n",
              "      fill: #1967D2;\n",
              "      height: 32px;\n",
              "      padding: 0 0 0 0;\n",
              "      width: 32px;\n",
              "    }\n",
              "\n",
              "    .colab-df-convert:hover {\n",
              "      background-color: #E2EBFA;\n",
              "      box-shadow: 0px 1px 2px rgba(60, 64, 67, 0.3), 0px 1px 3px 1px rgba(60, 64, 67, 0.15);\n",
              "      fill: #174EA6;\n",
              "    }\n",
              "\n",
              "    .colab-df-buttons div {\n",
              "      margin-bottom: 4px;\n",
              "    }\n",
              "\n",
              "    [theme=dark] .colab-df-convert {\n",
              "      background-color: #3B4455;\n",
              "      fill: #D2E3FC;\n",
              "    }\n",
              "\n",
              "    [theme=dark] .colab-df-convert:hover {\n",
              "      background-color: #434B5C;\n",
              "      box-shadow: 0px 1px 3px 1px rgba(0, 0, 0, 0.15);\n",
              "      filter: drop-shadow(0px 1px 2px rgba(0, 0, 0, 0.3));\n",
              "      fill: #FFFFFF;\n",
              "    }\n",
              "  </style>\n",
              "\n",
              "    <script>\n",
              "      const buttonEl =\n",
              "        document.querySelector('#df-a8e986ec-f155-4b08-b928-2bed4d49e45f button.colab-df-convert');\n",
              "      buttonEl.style.display =\n",
              "        google.colab.kernel.accessAllowed ? 'block' : 'none';\n",
              "\n",
              "      async function convertToInteractive(key) {\n",
              "        const element = document.querySelector('#df-a8e986ec-f155-4b08-b928-2bed4d49e45f');\n",
              "        const dataTable =\n",
              "          await google.colab.kernel.invokeFunction('convertToInteractive',\n",
              "                                                    [key], {});\n",
              "        if (!dataTable) return;\n",
              "\n",
              "        const docLinkHtml = 'Like what you see? Visit the ' +\n",
              "          '<a target=\"_blank\" href=https://colab.research.google.com/notebooks/data_table.ipynb>data table notebook</a>'\n",
              "          + ' to learn more about interactive tables.';\n",
              "        element.innerHTML = '';\n",
              "        dataTable['output_type'] = 'display_data';\n",
              "        await google.colab.output.renderOutput(dataTable, element);\n",
              "        const docLink = document.createElement('div');\n",
              "        docLink.innerHTML = docLinkHtml;\n",
              "        element.appendChild(docLink);\n",
              "      }\n",
              "    </script>\n",
              "  </div>\n",
              "\n",
              "\n",
              "    <div id=\"df-b52483ee-db9b-4d3a-8408-d30969768f23\">\n",
              "      <button class=\"colab-df-quickchart\" onclick=\"quickchart('df-b52483ee-db9b-4d3a-8408-d30969768f23')\"\n",
              "                title=\"Suggest charts\"\n",
              "                style=\"display:none;\">\n",
              "\n",
              "<svg xmlns=\"http://www.w3.org/2000/svg\" height=\"24px\"viewBox=\"0 0 24 24\"\n",
              "     width=\"24px\">\n",
              "    <g>\n",
              "        <path d=\"M19 3H5c-1.1 0-2 .9-2 2v14c0 1.1.9 2 2 2h14c1.1 0 2-.9 2-2V5c0-1.1-.9-2-2-2zM9 17H7v-7h2v7zm4 0h-2V7h2v10zm4 0h-2v-4h2v4z\"/>\n",
              "    </g>\n",
              "</svg>\n",
              "      </button>\n",
              "\n",
              "<style>\n",
              "  .colab-df-quickchart {\n",
              "      --bg-color: #E8F0FE;\n",
              "      --fill-color: #1967D2;\n",
              "      --hover-bg-color: #E2EBFA;\n",
              "      --hover-fill-color: #174EA6;\n",
              "      --disabled-fill-color: #AAA;\n",
              "      --disabled-bg-color: #DDD;\n",
              "  }\n",
              "\n",
              "  [theme=dark] .colab-df-quickchart {\n",
              "      --bg-color: #3B4455;\n",
              "      --fill-color: #D2E3FC;\n",
              "      --hover-bg-color: #434B5C;\n",
              "      --hover-fill-color: #FFFFFF;\n",
              "      --disabled-bg-color: #3B4455;\n",
              "      --disabled-fill-color: #666;\n",
              "  }\n",
              "\n",
              "  .colab-df-quickchart {\n",
              "    background-color: var(--bg-color);\n",
              "    border: none;\n",
              "    border-radius: 50%;\n",
              "    cursor: pointer;\n",
              "    display: none;\n",
              "    fill: var(--fill-color);\n",
              "    height: 32px;\n",
              "    padding: 0;\n",
              "    width: 32px;\n",
              "  }\n",
              "\n",
              "  .colab-df-quickchart:hover {\n",
              "    background-color: var(--hover-bg-color);\n",
              "    box-shadow: 0 1px 2px rgba(60, 64, 67, 0.3), 0 1px 3px 1px rgba(60, 64, 67, 0.15);\n",
              "    fill: var(--button-hover-fill-color);\n",
              "  }\n",
              "\n",
              "  .colab-df-quickchart-complete:disabled,\n",
              "  .colab-df-quickchart-complete:disabled:hover {\n",
              "    background-color: var(--disabled-bg-color);\n",
              "    fill: var(--disabled-fill-color);\n",
              "    box-shadow: none;\n",
              "  }\n",
              "\n",
              "  .colab-df-spinner {\n",
              "    border: 2px solid var(--fill-color);\n",
              "    border-color: transparent;\n",
              "    border-bottom-color: var(--fill-color);\n",
              "    animation:\n",
              "      spin 1s steps(1) infinite;\n",
              "  }\n",
              "\n",
              "  @keyframes spin {\n",
              "    0% {\n",
              "      border-color: transparent;\n",
              "      border-bottom-color: var(--fill-color);\n",
              "      border-left-color: var(--fill-color);\n",
              "    }\n",
              "    20% {\n",
              "      border-color: transparent;\n",
              "      border-left-color: var(--fill-color);\n",
              "      border-top-color: var(--fill-color);\n",
              "    }\n",
              "    30% {\n",
              "      border-color: transparent;\n",
              "      border-left-color: var(--fill-color);\n",
              "      border-top-color: var(--fill-color);\n",
              "      border-right-color: var(--fill-color);\n",
              "    }\n",
              "    40% {\n",
              "      border-color: transparent;\n",
              "      border-right-color: var(--fill-color);\n",
              "      border-top-color: var(--fill-color);\n",
              "    }\n",
              "    60% {\n",
              "      border-color: transparent;\n",
              "      border-right-color: var(--fill-color);\n",
              "    }\n",
              "    80% {\n",
              "      border-color: transparent;\n",
              "      border-right-color: var(--fill-color);\n",
              "      border-bottom-color: var(--fill-color);\n",
              "    }\n",
              "    90% {\n",
              "      border-color: transparent;\n",
              "      border-bottom-color: var(--fill-color);\n",
              "    }\n",
              "  }\n",
              "</style>\n",
              "\n",
              "      <script>\n",
              "        async function quickchart(key) {\n",
              "          const quickchartButtonEl =\n",
              "            document.querySelector('#' + key + ' button');\n",
              "          quickchartButtonEl.disabled = true;  // To prevent multiple clicks.\n",
              "          quickchartButtonEl.classList.add('colab-df-spinner');\n",
              "          try {\n",
              "            const charts = await google.colab.kernel.invokeFunction(\n",
              "                'suggestCharts', [key], {});\n",
              "          } catch (error) {\n",
              "            console.error('Error during call to suggestCharts:', error);\n",
              "          }\n",
              "          quickchartButtonEl.classList.remove('colab-df-spinner');\n",
              "          quickchartButtonEl.classList.add('colab-df-quickchart-complete');\n",
              "        }\n",
              "        (() => {\n",
              "          let quickchartButtonEl =\n",
              "            document.querySelector('#df-b52483ee-db9b-4d3a-8408-d30969768f23 button');\n",
              "          quickchartButtonEl.style.display =\n",
              "            google.colab.kernel.accessAllowed ? 'block' : 'none';\n",
              "        })();\n",
              "      </script>\n",
              "    </div>\n",
              "\n",
              "    </div>\n",
              "  </div>\n"
            ],
            "application/vnd.google.colaboratory.intrinsic+json": {
              "type": "dataframe",
              "variable_name": "loja",
              "summary": "{\n  \"name\": \"loja\",\n  \"rows\": 2359,\n  \"fields\": [\n    {\n      \"column\": \"Produto\",\n      \"properties\": {\n        \"dtype\": \"category\",\n        \"num_unique_values\": 51,\n        \"samples\": [\n          \"Viol\\u00e3o\",\n          \"Bola de basquete\",\n          \"Smartwatch\"\n        ],\n        \"semantic_type\": \"\",\n        \"description\": \"\"\n      }\n    },\n    {\n      \"column\": \"Categoria do Produto\",\n      \"properties\": {\n        \"dtype\": \"category\",\n        \"num_unique_values\": 8,\n        \"samples\": [\n          \"moveis\",\n          \"esporte e lazer\",\n          \"eletronicos\"\n        ],\n        \"semantic_type\": \"\",\n        \"description\": \"\"\n      }\n    },\n    {\n      \"column\": \"Pre\\u00e7o\",\n      \"properties\": {\n        \"dtype\": \"number\",\n        \"std\": 819.5827782539145,\n        \"min\": 10.07,\n        \"max\": 3969.38,\n        \"num_unique_values\": 2315,\n        \"samples\": [\n          446.11,\n          107.31,\n          65.86\n        ],\n        \"semantic_type\": \"\",\n        \"description\": \"\"\n      }\n    },\n    {\n      \"column\": \"Frete\",\n      \"properties\": {\n        \"dtype\": \"number\",\n        \"std\": 43.814183327408166,\n        \"min\": 0.0,\n        \"max\": 214.3770604781,\n        \"num_unique_values\": 2149,\n        \"samples\": [\n          83.815279607,\n          16.069664669,\n          14.0344876928\n        ],\n        \"semantic_type\": \"\",\n        \"description\": \"\"\n      }\n    },\n    {\n      \"column\": \"Data da Compra\",\n      \"properties\": {\n        \"dtype\": \"object\",\n        \"num_unique_values\": 1018,\n        \"samples\": [\n          \"15/09/2022\",\n          \"03/06/2020\",\n          \"06/11/2021\"\n        ],\n        \"semantic_type\": \"\",\n        \"description\": \"\"\n      }\n    },\n    {\n      \"column\": \"Vendedor\",\n      \"properties\": {\n        \"dtype\": \"category\",\n        \"num_unique_values\": 14,\n        \"samples\": [\n          \"Juliana Costa\",\n          \"Mariana Ferreira\",\n          \"Pedro Gomes\"\n        ],\n        \"semantic_type\": \"\",\n        \"description\": \"\"\n      }\n    },\n    {\n      \"column\": \"Local da compra\",\n      \"properties\": {\n        \"dtype\": \"category\",\n        \"num_unique_values\": 26,\n        \"samples\": [\n          \"TO\",\n          \"RN\",\n          \"SP\"\n        ],\n        \"semantic_type\": \"\",\n        \"description\": \"\"\n      }\n    },\n    {\n      \"column\": \"Avalia\\u00e7\\u00e3o da compra\",\n      \"properties\": {\n        \"dtype\": \"number\",\n        \"std\": 1,\n        \"min\": 1,\n        \"max\": 5,\n        \"num_unique_values\": 5,\n        \"samples\": [\n          1,\n          2,\n          5\n        ],\n        \"semantic_type\": \"\",\n        \"description\": \"\"\n      }\n    },\n    {\n      \"column\": \"Tipo de pagamento\",\n      \"properties\": {\n        \"dtype\": \"category\",\n        \"num_unique_values\": 4,\n        \"samples\": [\n          \"boleto\",\n          \"cartao_debito\",\n          \"cartao_credito\"\n        ],\n        \"semantic_type\": \"\",\n        \"description\": \"\"\n      }\n    },\n    {\n      \"column\": \"Quantidade de parcelas\",\n      \"properties\": {\n        \"dtype\": \"number\",\n        \"std\": 2,\n        \"min\": 1,\n        \"max\": 24,\n        \"num_unique_values\": 15,\n        \"samples\": [\n          7,\n          14,\n          8\n        ],\n        \"semantic_type\": \"\",\n        \"description\": \"\"\n      }\n    },\n    {\n      \"column\": \"lat\",\n      \"properties\": {\n        \"dtype\": \"number\",\n        \"std\": 5.372399916530833,\n        \"min\": -30.17,\n        \"max\": 1.41,\n        \"num_unique_values\": 26,\n        \"samples\": [\n          -9.46,\n          -5.81,\n          -22.19\n        ],\n        \"semantic_type\": \"\",\n        \"description\": \"\"\n      }\n    },\n    {\n      \"column\": \"lon\",\n      \"properties\": {\n        \"dtype\": \"number\",\n        \"std\": 4.183180020544179,\n        \"min\": -70.55,\n        \"max\": -36.59,\n        \"num_unique_values\": 26,\n        \"samples\": [\n          -48.26,\n          -36.59,\n          -48.79\n        ],\n        \"semantic_type\": \"\",\n        \"description\": \"\"\n      }\n    }\n  ]\n}"
            }
          },
          "metadata": {},
          "execution_count": 23
        }
      ],
      "source": [
        "import pandas as pd\n",
        "\n",
        "url = \"https://raw.githubusercontent.com/alura-es-cursos/challenge1-data-science/refs/heads/main/base-de-dados-challenge-1/loja_1.csv\"\n",
        "url2 = \"https://raw.githubusercontent.com/alura-es-cursos/challenge1-data-science/refs/heads/main/base-de-dados-challenge-1/loja_2.csv\"\n",
        "url3 = \"https://raw.githubusercontent.com/alura-es-cursos/challenge1-data-science/refs/heads/main/base-de-dados-challenge-1/loja_3.csv\"\n",
        "url4 = \"https://raw.githubusercontent.com/alura-es-cursos/challenge1-data-science/refs/heads/main/base-de-dados-challenge-1/loja_4.csv\"\n",
        "\n",
        "loja = pd.read_csv(url)\n",
        "loja2 = pd.read_csv(url2)\n",
        "loja3 = pd.read_csv(url3)\n",
        "loja4 = pd.read_csv(url4)\n",
        "\n",
        "loja.head()"
      ]
    },
    {
      "cell_type": "code",
      "source": [],
      "metadata": {
        "id": "SGRF3xpZKcDv"
      },
      "execution_count": 23,
      "outputs": []
    },
    {
      "cell_type": "markdown",
      "source": [
        "#1. Análise do faturamento\n"
      ],
      "metadata": {
        "id": "X62IW3KFUIYm"
      }
    },
    {
      "cell_type": "code",
      "source": [
        "# Nesta primeira análise, você deve calcular o faturamento total de cada loja.\n",
        "# Somando os valores da coluna Preço de cada loja para estimar o faturamento.\n",
        "\n",
        "# Calculando o faturamento de cada loja\n",
        "faturamento_loja1 = loja['Preço'].sum()\n",
        "faturamento_loja2 = loja2['Preço'].sum()\n",
        "faturamento_loja3 = loja3['Preço'].sum()\n",
        "faturamento_loja4 = loja4['Preço'].sum()\n",
        "\n",
        "# Exibindo os faturamentos\n",
        "print(f\"Faturamento Loja 1: R${faturamento_loja1:,.2f}\")\n",
        "print(f\"Faturamento Loja 2: R${faturamento_loja2:,.2f}\")\n",
        "print(f\"Faturamento Loja 3: R${faturamento_loja3:,.2f}\")\n",
        "print(f\"Faturamento Loja 4: R${faturamento_loja4:,.2f}\")\n",
        "\n"
      ],
      "metadata": {
        "id": "xykobSftV64I",
        "colab": {
          "base_uri": "https://localhost:8080/"
        },
        "outputId": "d15c484a-c947-41fd-8b03-592b3e59ef88"
      },
      "execution_count": 24,
      "outputs": [
        {
          "output_type": "stream",
          "name": "stdout",
          "text": [
            "Faturamento Loja 1: R$1,534,509.12\n",
            "Faturamento Loja 2: R$1,488,459.06\n",
            "Faturamento Loja 3: R$1,464,025.03\n",
            "Faturamento Loja 4: R$1,384,497.58\n"
          ]
        }
      ]
    },
    {
      "cell_type": "code",
      "source": [
        "faturamento_total = faturamento_loja1 + faturamento_loja2 + faturamento_loja3 + faturamento_loja4\n",
        "print(f\"Faturamento Total das Lojas: R${faturamento_total:,.2f}\")\n"
      ],
      "metadata": {
        "id": "KDyr8E71V3m-",
        "colab": {
          "base_uri": "https://localhost:8080/"
        },
        "outputId": "dce5bc3d-8f90-47d4-d90a-86c7f73eb5f5"
      },
      "execution_count": 25,
      "outputs": [
        {
          "output_type": "stream",
          "name": "stdout",
          "text": [
            "Faturamento Total das Lojas: R$5,871,490.79\n"
          ]
        }
      ]
    },
    {
      "cell_type": "markdown",
      "source": [
        "# 2. Vendas por Categoria\n"
      ],
      "metadata": {
        "id": "2V_vcAPzWZmR"
      }
    },
    {
      "cell_type": "code",
      "source": [
        "print(loja.columns)\n"
      ],
      "metadata": {
        "id": "A34YupIuYhfF",
        "colab": {
          "base_uri": "https://localhost:8080/"
        },
        "outputId": "36fafb90-6620-4ca5-d4dd-12ef1e1503f9"
      },
      "execution_count": 26,
      "outputs": [
        {
          "output_type": "stream",
          "name": "stdout",
          "text": [
            "Index(['Produto', 'Categoria do Produto', 'Preço', 'Frete', 'Data da Compra',\n",
            "       'Vendedor', 'Local da compra', 'Avaliação da compra',\n",
            "       'Tipo de pagamento', 'Quantidade de parcelas', 'lat', 'lon'],\n",
            "      dtype='object')\n"
          ]
        }
      ]
    },
    {
      "cell_type": "code",
      "source": [
        "# Neste passo, deve calcular a quantidade de produtos vendidos por categoria em cada loja.\n",
        "# A ideia é agrupar os dados por categoria e contar o número de vendas de cada tipo, mostrando as categoria mais populares de cada loja\n",
        "\n",
        "# Loja 1\n",
        "produtos_loja1 = loja['Categoria do Produto'].value_counts()\n",
        "print(\"Quantidade de produtos vendidos por categoria - Loja 1:\")\n",
        "print(produtos_loja1)\n",
        "print(\"\\n\" + \"-\"*50 + \"\\n\")\n",
        "\n",
        "# Loja 2\n",
        "produtos_loja2 = loja2['Categoria do Produto'].value_counts()\n",
        "print(\"Quantidade de produtos vendidos por categoria - Loja 2:\")\n",
        "print(produtos_loja2)\n",
        "print(\"\\n\" + \"-\"*50 + \"\\n\")\n",
        "\n",
        "# Loja 3\n",
        "produtos_loja3 = loja3['Categoria do Produto'].value_counts()\n",
        "print(\"Quantidade de produtos vendidos por categoria - Loja 3:\")\n",
        "print(produtos_loja3)\n",
        "print(\"\\n\" + \"-\"*50 + \"\\n\")\n",
        "\n",
        "# Loja 4\n",
        "produtos_loja4 = loja4['Categoria do Produto'].value_counts()\n",
        "print(\"Quantidade de produtos vendidos por categoria - Loja 4:\")\n",
        "print(produtos_loja4)\n"
      ],
      "metadata": {
        "id": "yZR6cOjXYSk1",
        "colab": {
          "base_uri": "https://localhost:8080/"
        },
        "outputId": "9bda43b1-0657-4c5d-e08a-81c03d1269e4"
      },
      "execution_count": 27,
      "outputs": [
        {
          "output_type": "stream",
          "name": "stdout",
          "text": [
            "Quantidade de produtos vendidos por categoria - Loja 1:\n",
            "Categoria do Produto\n",
            "moveis                   465\n",
            "eletronicos              448\n",
            "brinquedos               324\n",
            "eletrodomesticos         312\n",
            "esporte e lazer          284\n",
            "instrumentos musicais    182\n",
            "livros                   173\n",
            "utilidades domesticas    171\n",
            "Name: count, dtype: int64\n",
            "\n",
            "--------------------------------------------------\n",
            "\n",
            "Quantidade de produtos vendidos por categoria - Loja 2:\n",
            "Categoria do Produto\n",
            "moveis                   442\n",
            "eletronicos              422\n",
            "brinquedos               313\n",
            "eletrodomesticos         305\n",
            "esporte e lazer          275\n",
            "instrumentos musicais    224\n",
            "livros                   197\n",
            "utilidades domesticas    181\n",
            "Name: count, dtype: int64\n",
            "\n",
            "--------------------------------------------------\n",
            "\n",
            "Quantidade de produtos vendidos por categoria - Loja 3:\n",
            "Categoria do Produto\n",
            "moveis                   499\n",
            "eletronicos              451\n",
            "brinquedos               315\n",
            "eletrodomesticos         278\n",
            "esporte e lazer          277\n",
            "livros                   185\n",
            "instrumentos musicais    177\n",
            "utilidades domesticas    177\n",
            "Name: count, dtype: int64\n",
            "\n",
            "--------------------------------------------------\n",
            "\n",
            "Quantidade de produtos vendidos por categoria - Loja 4:\n",
            "Categoria do Produto\n",
            "moveis                   480\n",
            "eletronicos              451\n",
            "brinquedos               338\n",
            "esporte e lazer          277\n",
            "eletrodomesticos         254\n",
            "utilidades domesticas    201\n",
            "livros                   187\n",
            "instrumentos musicais    170\n",
            "Name: count, dtype: int64\n"
          ]
        }
      ]
    },
    {
      "cell_type": "markdown",
      "source": [
        "# 3. Média de Avaliação das Lojas"
      ],
      "metadata": {
        "id": "Rq6tU_xSY3jk"
      }
    },
    {
      "cell_type": "code",
      "source": [],
      "metadata": {
        "id": "bh3jjjJwY5MU"
      },
      "execution_count": 27,
      "outputs": []
    },
    {
      "cell_type": "code",
      "source": [
        "# Calculando a média das avaliações de cada loja\n",
        "\n",
        "# Loja 1\n",
        "media_avaliacao_loja1 = loja['Avaliação da compra'].mean()\n",
        "print(f\"Média das avaliações Loja 1: {media_avaliacao_loja1:.2f}\")\n",
        "\n",
        "# Loja 2\n",
        "media_avaliacao_loja2 = loja2['Avaliação da compra'].mean()\n",
        "print(f\"Média das avaliações Loja 2: {media_avaliacao_loja2:.2f}\")\n",
        "\n",
        "# Loja 3\n",
        "media_avaliacao_loja3 = loja3['Avaliação da compra'].mean()\n",
        "print(f\"Média das avaliações Loja 3: {media_avaliacao_loja3:.2f}\")\n",
        "\n",
        "# Loja 4\n",
        "media_avaliacao_loja4 = loja4['Avaliação da compra'].mean()\n",
        "print(f\"Média das avaliações Loja 4: {media_avaliacao_loja4:.2f}\")\n"
      ],
      "metadata": {
        "id": "I0KkjPoTY88F",
        "colab": {
          "base_uri": "https://localhost:8080/"
        },
        "outputId": "7f70db46-6c2d-4cc2-ed9f-8d225f374e86"
      },
      "execution_count": 28,
      "outputs": [
        {
          "output_type": "stream",
          "name": "stdout",
          "text": [
            "Média das avaliações Loja 1: 3.98\n",
            "Média das avaliações Loja 2: 4.04\n",
            "Média das avaliações Loja 3: 4.05\n",
            "Média das avaliações Loja 4: 4.00\n"
          ]
        }
      ]
    },
    {
      "cell_type": "markdown",
      "source": [
        "# 4. Produtos Mais e Menos Vendidos"
      ],
      "metadata": {
        "id": "DmNp1KPBZCm-"
      }
    },
    {
      "cell_type": "code",
      "source": [],
      "metadata": {
        "id": "qoyjqijQZHfF"
      },
      "execution_count": 28,
      "outputs": []
    },
    {
      "cell_type": "code",
      "source": [
        "# Identificando os produtos mais vendidos e menos vendidos por loja\n",
        "\n",
        "# Loja 1 - Agrupando por produto e somando as quantidades\n",
        "mais_vendidos_loja1 = loja.groupby('Produto')['Quantidade de parcelas'].sum().sort_values(ascending=False)\n",
        "menos_vendidos_loja1 = loja.groupby('Produto')['Quantidade de parcelas'].sum().sort_values(ascending=True)\n",
        "\n",
        "# Exibindo os produtos mais vendidos e menos vendidos da Loja 1\n",
        "print(\"Produtos Mais Vendidos Loja 1:\")\n",
        "print(mais_vendidos_loja1.head())  # Exibe os 5 mais vendidos\n",
        "print(\"\\nProdutos Menos Vendidos Loja 1:\")\n",
        "print(menos_vendidos_loja1.head())  # Exibe os 5 menos vendidos\n",
        "print(\"\\n\" + \"-\"*50 + \"\\n\")\n",
        "\n",
        "# Loja 2 - Agrupando por produto e somando as quantidades\n",
        "mais_vendidos_loja2 = loja2.groupby('Produto')['Quantidade de parcelas'].sum().sort_values(ascending=False)\n",
        "menos_vendidos_loja2 = loja2.groupby('Produto')['Quantidade de parcelas'].sum().sort_values(ascending=True)\n",
        "\n",
        "# Exibindo os produtos mais vendidos e menos vendidos da Loja 2\n",
        "print(\"Produtos Mais Vendidos Loja 2:\")\n",
        "print(mais_vendidos_loja2.head())\n",
        "print(\"\\nProdutos Menos Vendidos Loja 2:\")\n",
        "print(menos_vendidos_loja2.head())\n",
        "print(\"\\n\" + \"-\"*50 + \"\\n\")\n",
        "\n",
        "# Loja 3 - Agrupando por produto e somando as quantidades\n",
        "mais_vendidos_loja3 = loja3.groupby('Produto')['Quantidade de parcelas'].sum().sort_values(ascending=False)\n",
        "menos_vendidos_loja3 = loja3.groupby('Produto')['Quantidade de parcelas'].sum().sort_values(ascending=True)\n",
        "\n",
        "# Exibindo os produtos mais vendidos e menos vendidos da Loja 3\n",
        "print(\"Produtos Mais Vendidos Loja 3:\")\n",
        "print(mais_vendidos_loja3.head())\n",
        "print(\"\\nProdutos Menos Vendidos Loja 3:\")\n",
        "print(menos_vendidos_loja3.head())\n",
        "print(\"\\n\" + \"-\"*50 + \"\\n\")\n",
        "\n",
        "# Loja 4 - Agrupando por produto e somando as quantidades\n",
        "mais_vendidos_loja4 = loja4.groupby('Produto')['Quantidade de parcelas'].sum().sort_values(ascending=False)\n",
        "menos_vendidos_loja4 = loja4.groupby('Produto')['Quantidade de parcelas'].sum().sort_values(ascending=True)\n",
        "\n",
        "# Exibindo os produtos mais vendidos e menos vendidos da Loja 4\n",
        "print(\"Produtos Mais Vendidos Loja 4:\")\n",
        "print(mais_vendidos_loja4.head())\n",
        "print(\"\\nProdutos Menos Vendidos Loja 4:\")\n",
        "print(menos_vendidos_loja4.head())\n"
      ],
      "metadata": {
        "id": "0Sw3sd4IZIGW",
        "colab": {
          "base_uri": "https://localhost:8080/"
        },
        "outputId": "353479cf-15ee-445f-cae5-f16707a22670"
      },
      "execution_count": 29,
      "outputs": [
        {
          "output_type": "stream",
          "name": "stdout",
          "text": [
            "Produtos Mais Vendidos Loja 1:\n",
            "Produto\n",
            "Secadora de roupas    214\n",
            "TV Led UHD 4K         196\n",
            "Cômoda                188\n",
            "Impressora            182\n",
            "Bicicleta             178\n",
            "Name: Quantidade de parcelas, dtype: int64\n",
            "\n",
            "Produtos Menos Vendidos Loja 1:\n",
            "Produto\n",
            "Celular ABXY       78\n",
            "Mochila            90\n",
            "Dinossauro Rex     94\n",
            "Tablet ABXY        99\n",
            "Corda de pular    100\n",
            "Name: Quantidade de parcelas, dtype: int64\n",
            "\n",
            "--------------------------------------------------\n",
            "\n",
            "Produtos Mais Vendidos Loja 2:\n",
            "Produto\n",
            "Iniciando em programação    223\n",
            "Celular Plus X42            195\n",
            "Violão                      183\n",
            "Micro-ondas                 179\n",
            "Secadora de roupas          177\n",
            "Name: Quantidade de parcelas, dtype: int64\n",
            "\n",
            "Produtos Menos Vendidos Loja 2:\n",
            "Produto\n",
            "Mesa de jantar        89\n",
            "Bicicleta             98\n",
            "Jogo de copos         98\n",
            "Jogo de tabuleiro     99\n",
            "Poltrona             100\n",
            "Name: Quantidade de parcelas, dtype: int64\n",
            "\n",
            "--------------------------------------------------\n",
            "\n",
            "Produtos Mais Vendidos Loja 3:\n",
            "Produto\n",
            "Bicicleta            191\n",
            "Fogão                182\n",
            "Jogo de tabuleiro    181\n",
            "Corda de pular       176\n",
            "Geladeira            172\n",
            "Name: Quantidade de parcelas, dtype: int64\n",
            "\n",
            "Produtos Menos Vendidos Loja 3:\n",
            "Produto\n",
            "TV Led UHD 4K     94\n",
            "Guitarra         100\n",
            "Smartwatch       100\n",
            "Micro-ondas      106\n",
            "Copo térmico     109\n",
            "Name: Quantidade de parcelas, dtype: int64\n",
            "\n",
            "--------------------------------------------------\n",
            "\n",
            "Produtos Mais Vendidos Loja 4:\n",
            "Produto\n",
            "Dashboards com Power BI    196\n",
            "Cama box                   195\n",
            "Faqueiro                   183\n",
            "Cama king                  175\n",
            "Mesa de jantar             166\n",
            "Name: Quantidade de parcelas, dtype: int64\n",
            "\n",
            "Produtos Menos Vendidos Loja 4:\n",
            "Produto\n",
            "Guarda roupas     88\n",
            "Smartwatch        93\n",
            "Guitarra          97\n",
            "Tablet ABXY      100\n",
            "Violão           104\n",
            "Name: Quantidade de parcelas, dtype: int64\n"
          ]
        }
      ]
    },
    {
      "cell_type": "markdown",
      "source": [
        "# 5. Frete Médio por Loja\n"
      ],
      "metadata": {
        "id": "Fl0cGi3bZKqU"
      }
    },
    {
      "cell_type": "code",
      "source": [],
      "metadata": {
        "id": "S2JeaCykZNy9"
      },
      "execution_count": 29,
      "outputs": []
    },
    {
      "cell_type": "code",
      "source": [
        "# Calculando o custo médio de frete para cada loja\n",
        "\n",
        "# Loja 1\n",
        "media_frete_loja1 = loja['Frete'].mean()\n",
        "print(f\"Custo Médio de Frete Loja 1: R${media_frete_loja1:,.2f}\")\n",
        "\n",
        "# Loja 2\n",
        "media_frete_loja2 = loja2['Frete'].mean()\n",
        "print(f\"Custo Médio de Frete Loja 2: R${media_frete_loja2:,.2f}\")\n",
        "\n",
        "# Loja 3\n",
        "media_frete_loja3 = loja3['Frete'].mean()\n",
        "print(f\"Custo Médio de Frete Loja 3: R${media_frete_loja3:,.2f}\")\n",
        "\n",
        "# Loja 4\n",
        "media_frete_loja4 = loja4['Frete'].mean()\n",
        "print(f\"Custo Médio de Frete Loja 4: R${media_frete_loja4:,.2f}\")\n"
      ],
      "metadata": {
        "id": "0tSdCie9ZQlt",
        "colab": {
          "base_uri": "https://localhost:8080/"
        },
        "outputId": "cee10c2c-3945-441f-c57f-3b877ee8db76"
      },
      "execution_count": 30,
      "outputs": [
        {
          "output_type": "stream",
          "name": "stdout",
          "text": [
            "Custo Médio de Frete Loja 1: R$34.69\n",
            "Custo Médio de Frete Loja 2: R$33.62\n",
            "Custo Médio de Frete Loja 3: R$33.07\n",
            "Custo Médio de Frete Loja 4: R$31.28\n"
          ]
        }
      ]
    },
    {
      "cell_type": "markdown",
      "source": [
        "# Importando as bibliotecas necessárias"
      ],
      "metadata": {
        "id": "x4HKX8AaLzZw"
      }
    },
    {
      "cell_type": "code",
      "source": [
        "import matplotlib.pyplot as plt\n",
        "import seaborn as sns\n"
      ],
      "metadata": {
        "id": "WuLSSHxqL7S5"
      },
      "execution_count": 31,
      "outputs": []
    },
    {
      "cell_type": "markdown",
      "source": [
        "# Gráfico 1 - Faturamento de cada loja"
      ],
      "metadata": {
        "id": "g08qQF1BL_qX"
      }
    },
    {
      "cell_type": "code",
      "source": [
        "# Dados do faturamento\n",
        "faturamento = {\n",
        "    'Loja 1': faturamento_loja1,\n",
        "    'Loja 2': faturamento_loja2,\n",
        "    'Loja 3': faturamento_loja3,\n",
        "    'Loja 4': faturamento_loja4\n",
        "}\n",
        "\n",
        "# Criando o gráfico\n",
        "plt.figure(figsize=(8,6))\n",
        "plt.bar(faturamento.keys(), faturamento.values(), color='skyblue')\n",
        "plt.title('Faturamento Total por Loja', fontsize=14)\n",
        "plt.xlabel('Lojas', fontsize=12)\n",
        "plt.ylabel('Faturamento (R$)', fontsize=12)\n",
        "plt.show()\n"
      ],
      "metadata": {
        "colab": {
          "base_uri": "https://localhost:8080/",
          "height": 569
        },
        "id": "2ihBU4PNMEvo",
        "outputId": "db132b3b-8b9e-476a-fedf-a7ae171a0906"
      },
      "execution_count": 32,
      "outputs": [
        {
          "output_type": "display_data",
          "data": {
            "text/plain": [
              "<Figure size 800x600 with 1 Axes>"
            ],
            "image/png": "[encoded data removed]"
          },
          "metadata": {}
        }
      ]
    },
    {
      "cell_type": "markdown",
      "source": [
        "# Gráfico 2 - Categorias de Produtos Mais Vendidos"
      ],
      "metadata": {
        "id": "4zKDQIAgNXE4"
      }
    },
    {
      "cell_type": "code",
      "source": [
        "# Loja 1: Categorias mais vendidas\n",
        "categoria_loja1 = loja.groupby('Categoria do Produto')['Quantidade de parcelas'].sum().sort_values(ascending=False)\n",
        "\n",
        "# Criando o gráfico de barras horizontais\n",
        "plt.figure(figsize=(10,6))\n",
        "categoria_loja1.head(10).plot(kind='barh', color='lightgreen')\n",
        "plt.title('Categorias de Produtos Mais Vendidos - Loja 1', fontsize=14)\n",
        "plt.xlabel('Quantidade Vendida', fontsize=12)\n",
        "plt.ylabel('Categoria do Produto', fontsize=12)\n",
        "plt.show()\n"
      ],
      "metadata": {
        "colab": {
          "base_uri": "https://localhost:8080/",
          "height": 569
        },
        "id": "8alc1sIpNaPf",
        "outputId": "a28df8d6-b584-48d2-efe0-ae4a347f3103"
      },
      "execution_count": 35,
      "outputs": [
        {
          "output_type": "display_data",
          "data": {
            "text/plain": [
              "<Figure size 1000x600 with 1 Axes>"
            ],
            "image/png": "[encoded data removed]"
          },
          "metadata": {}
        }
      ]
    },
    {
      "cell_type": "markdown",
      "source": [
        "# Gráfico 3 - Relação entre Preço e Avaliação"
      ],
      "metadata": {
        "id": "mLyknlNJNlQH"
      }
    },
    {
      "cell_type": "code",
      "source": [
        "# Gráfico de dispersão: Relação entre Preço e Avaliação\n",
        "plt.figure(figsize=(8,6))\n",
        "sns.scatterplot(x='Preço', y='Avaliação da compra', data=loja, color='orange')\n",
        "plt.title('Relação entre Preço e Avaliação - Loja 1', fontsize=14)\n",
        "plt.xlabel('Preço (R$)', fontsize=12)\n",
        "plt.ylabel('Avaliação (de 1 a 5)', fontsize=12)\n",
        "plt.show()\n"
      ],
      "metadata": {
        "colab": {
          "base_uri": "https://localhost:8080/",
          "height": 569
        },
        "id": "Sy-SpyWjNm0g",
        "outputId": "b332ea7e-d338-4abc-afcb-cbcd96c314fe"
      },
      "execution_count": 36,
      "outputs": [
        {
          "output_type": "display_data",
          "data": {
            "text/plain": [
              "<Figure size 800x600 with 1 Axes>"
            ],
            "image/png": "[encoded data removed]"
          },
          "metadata": {}
        }
      ]
    },
    {
      "cell_type": "markdown",
      "source": [
        "# Gráfico 4 - Custo Médio de Frete"
      ],
      "metadata": {
        "id": "jss0EmpjN2fo"
      }
    },
    {
      "cell_type": "code",
      "source": [
        "# Dados do custo médio de frete\n",
        "custos_frete = {\n",
        "    'Loja 1': media_frete_loja1,\n",
        "    'Loja 2': media_frete_loja2,\n",
        "    'Loja 3': media_frete_loja3,\n",
        "    'Loja 4': media_frete_loja4\n",
        "}\n",
        "\n",
        "# Criando o gráfico\n",
        "plt.figure(figsize=(8,6))\n",
        "plt.bar(custos_frete.keys(), custos_frete.values(), color='salmon')\n",
        "plt.title('Custo Médio de Frete por Loja', fontsize=14)\n",
        "plt.xlabel('Lojas', fontsize=12)\n",
        "plt.ylabel('Custo Médio de Frete (R$)', fontsize=12)\n",
        "plt.show()\n"
      ],
      "metadata": {
        "colab": {
          "base_uri": "https://localhost:8080/",
          "height": 570
        },
        "id": "26Qg3gYLN3Yv",
        "outputId": "8ad5ef8b-4364-4a91-ce80-5a7cef7e45fe"
      },
      "execution_count": 37,
      "outputs": [
        {
          "output_type": "display_data",
          "data": {
            "text/plain": [
              "<Figure size 800x600 with 1 Axes>"
            ],
            "image/png": "[encoded data removed]"
          },
          "metadata": {}
        }
      ]
    },
    {
      "cell_type": "markdown",
      "source": [
        "# Relatorio"
      ],
      "metadata": {
        "id": "2wIabwwvObxB"
      }
    },
    {
      "cell_type": "markdown",
      "source": [
        "**Relatório de Análise de Lojas**\n",
        "\n",
        "Introdução\n",
        "\n",
        "O objetivo desta análise é determinar qual loja o Senhor João deve vender, levando em consideração diversos fatores cruciais para a avaliação do desempenho de cada loja. As variáveis analisadas incluem o faturamento total, a distribuição das categorias de produtos, as avaliações dos clientes, os produtos mais vendidos, e o custo médio de frete. A decisão final será baseada na combinação desses fatores, buscando identificar qual loja apresenta as melhores oportunidades de venda.\n",
        "\n",
        "Desenvolvimento\n",
        "\n",
        "**Faturamento Total das Lojas**\n",
        "\n",
        "O faturamento total de cada loja foi calculado com base na soma dos preços dos produtos vendidos. Os resultados são os seguintes:\n",
        "\n",
        "Loja 1: R$1,534,509.12\n",
        "\n",
        "Loja 2: R$1,488,459.06\n",
        "\n",
        "Loja 3: R$1,464,025.03\n",
        "\n",
        "Loja 4: R$1,384,497.58\n",
        "\n",
        "O faturamento da Loja 1 se destaca ligeiramente em relação às outras lojas, sugerindo que ela tem um volume de vendas maior ou produtos de maior valor agregado em comparação às outras lojas.\n",
        "\n",
        "**Quantidade de Produtos Vendidos por Categoria**\n",
        "\n",
        "A quantidade de produtos vendidos por categoria foi analisada para entender as áreas mais populares em cada loja. Aqui estão os produtos mais vendidos por categoria em cada loja:\n",
        "\n",
        "**Loja 1:**\n",
        "\n",
        "Móveis: 465\n",
        "\n",
        "Eletrônicos: 448\n",
        "\n",
        "Brinquedos: 324\n",
        "\n",
        "Eletrodomésticos: 312\n",
        "\n",
        "Esporte e Lazer: 284\n",
        "\n",
        "Instrumentos Musicais: 182\n",
        "\n",
        "Livros: 173\n",
        "\n",
        "Utilidades Domésticas: 171\n",
        "\n",
        "**Loja 2:**\n",
        "\n",
        "Móveis: 442\n",
        "\n",
        "Eletrônicos: 422\n",
        "\n",
        "Brinquedos: 313\n",
        "\n",
        "Eletrodomésticos: 305\n",
        "\n",
        "Esporte e Lazer: 275\n",
        "\n",
        "Instrumentos Musicais: 224\n",
        "\n",
        "Livros: 197\n",
        "\n",
        "Utilidades Domésticas: 181\n",
        "\n",
        "**Loja 3:**\n",
        "\n",
        "Móveis: 499\n",
        "\n",
        "Eletrônicos: 451\n",
        "\n",
        "Brinquedos: 315\n",
        "\n",
        "Eletrodomésticos: 278\n",
        "\n",
        "Esporte e Lazer: 277\n",
        "\n",
        "Livros: 185\n",
        "\n",
        "Instrumentos Musicais: 177\n",
        "\n",
        "Utilidades Domésticas: 177\n",
        "\n",
        "**Loja 4:**\n",
        "\n",
        "Móveis: 480\n",
        "\n",
        "Eletrônicos: 451\n",
        "\n",
        "Brinquedos: 338\n",
        "\n",
        "Esporte e Lazer: 277\n",
        "\n",
        "Eletrodomésticos: 254\n",
        "\n",
        "Utilidades Domésticas: 201\n",
        "\n",
        "Livros: 187\n",
        "\n",
        "Instrumentos Musicais: 170\n",
        "\n",
        "As lojas apresentam produtos bem vendidos em categorias similares, mas a Loja 3 se destaca em termos de volume de produtos vendidos, especialmente em Móveis e Eletrônicos, enquanto a Loja 4 tem um desempenho mais equilibrado em diferentes categorias.\n",
        "\n",
        "Média das Avaliações dos Clientes\n",
        "\n",
        "A média das avaliações dos clientes foi calculada para entender a satisfação do cliente com os produtos vendidos. As médias são as seguintes:\n",
        "\n",
        "Loja 1: 3.98\n",
        "\n",
        "Loja 2: 4.04\n",
        "\n",
        "Loja 3: 4.05\n",
        "\n",
        "Loja 4: 4.00\n",
        "\n",
        "A Loja 3 se destaca com a melhor média de avaliação dos clientes, indicando que os produtos vendidos por ela têm gerado uma boa satisfação geral. Isso pode ser um fator decisivo para aumentar a fidelização dos clientes e melhorar a imagem da loja a longo prazo.\n",
        "\n",
        "**Produtos Mais e Menos Vendidos**\n",
        "\n",
        "A análise dos produtos mais e menos vendidos revela quais produtos são os mais e menos populares em cada loja. Alguns dos produtos mais vendidos em cada loja incluem:\n",
        "\n",
        "Loja 1: Secadora de roupas (214 unidades), TV Led UHD 4K (196 unidades)\n",
        "\n",
        "Loja 2: Iniciando em Programação (223 unidades), Celular Plus X42 (195 unidades)\n",
        "\n",
        "Loja 3: Bicicleta (191 unidades), Fogão (182 unidades)\n",
        "\n",
        "Loja 4: Dashboards com Power BI (196 unidades), Cama Box (195 unidades)\n",
        "\n",
        "Cada loja tem seus produtos mais vendidos, com destaque para a Loja 1 que tem a Secadora de Roupas como um dos seus itens mais vendidos, o que pode indicar uma tendência forte por produtos relacionados à casa.\n",
        "\n",
        "Custo Médio de Frete\n",
        "O custo médio de frete para cada loja foi analisado:\n",
        "\n",
        "Loja 1: R$34.69\n",
        "\n",
        "Loja 2: R$33.62\n",
        "\n",
        "Loja 3: R$33.07\n",
        "\n",
        "Loja 4: R$31.28\n",
        "\n",
        "Embora o custo de frete da Loja 4 seja o mais baixo, o custo médio de frete de cada loja não parece impactar de forma tão significativa o desempenho das vendas. Contudo, a Loja 4 tem uma vantagem competitiva em termos de custo de frete.\n",
        "\n",
        "**Conclusão**\n",
        "\n",
        "Após uma análise detalhada, a Loja 3 se destaca com base em diversos fatores:\n",
        "\n",
        "Faturamento: Embora a Loja 1 tenha o maior faturamento, a Loja 3 está bem próxima, mostrando um bom desempenho geral.\n",
        "\n",
        "Avaliações dos Clientes: A Loja 3 tem a melhor média de avaliações, indicando alta satisfação dos clientes.\n",
        "\n",
        "Produtos Mais Vendidos: A Loja 3 lidera nas categorias de Móveis e Eletrônicos, com um bom desempenho em volume de vendas.\n",
        "\n",
        "Frete: Apesar do custo de frete ser mais alto que a Loja 4, a Loja 3 compensa com seu desempenho de vendas.\n",
        "\n",
        "Portanto, recomenda-se que o Senhor João venda a Loja 3, pois ela apresenta um desempenho geral superior em termos de satisfação do cliente, volume de vendas e faturamento. A Loja 3 também possui um mix de produtos que estão em alta demanda no mercado, o que pode representar uma excelente oportunidade de negócio."
      ],
      "metadata": {
        "id": "UTSNti-iQqVB"
      }
    }
  ]
}